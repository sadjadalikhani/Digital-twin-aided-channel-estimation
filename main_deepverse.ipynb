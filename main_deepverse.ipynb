{
 "cells": [
  {
   "cell_type": "markdown",
   "metadata": {},
   "source": [
    "# Digital Twin-Aided Channel Estimation\n",
    "\n",
    "Accurate channel estimation in **sparse, high-dimensional wireless environments** is crucial for next-generation systems, especially in large-scale MIMO deployments. This work presents a **digital twin (DT)-aided framework** that leverages simulated counterparts of real environments as **priors** to enable **efficient zone-specific, subspace-based channel estimation (CE)**. By focusing on the **dominant channel components** in the angular domain, the subspace-based CE approach drastically reduces feedback overhead while maintaining high estimation accuracy.\n",
    "\n",
    "Although DT channels may not perfectly match real measurements, their **coarse-grained subspaces** provide an informative initialization that narrows the search space and accelerates convergence. The framework adopts a **two-step clustering process** on the **Grassmann manifold**, followed by **reinforcement learning (RL)-based calibration** to progressively align DT-derived subspaces with their real-world counterparts. Simulation results show that digital twins not only enable **near-optimal channel estimation performance**, but also enhance **subspace calibration accuracy** through learning, illustrating their potential as a foundation for **adaptive, learnable digital twins** in future wireless systems.\n",
    "\n",
    "---\n",
    "\n",
    "## System Overview\n",
    "\n",
    "The following figures summarize the main concepts and system model used in this study:\n",
    "\n",
    "### System Model\n",
    "\n",
    "<img src=\"figs/deepmimo/system_model.PNG\" alt=\"System Model\" width=\"1300\">\n",
    "\n",
    "The figure illustrates the proposed **zone-specific subspace prediction and calibration framework** for channel estimation using digital twins. The base station (BS) designs **zone-dependent precoders**, enabling UEs to estimate the **projection of real-world channels onto low-dimensional DT-based subspaces**. Zones are defined by **subspace similarity** among users on the Grassmann manifold. This approach minimizes CSI feedback overhead by exploiting **channel sparsity** and **DT-based subspace detection**. To compensate for DT approximation errors, subspaces are iteratively **calibrated via reinforcement learning**, balancing estimation accuracy and overhead.\n",
    "\n",
    "### Calibration Idea\n",
    "\n",
    "<img src='figs/deepmimo/calibration_idea.png' alt=\"Calibration Idea\" width=\"1000\">\n",
    "\n",
    "This figure depicts the **RL-driven calibration mechanism**, which refines DT subspaces to better match real-world conditions by learning corrective actions that improve alignment and reduce estimation error."
   ]
  },
  {
   "cell_type": "markdown",
   "metadata": {},
   "source": [
    "## Clone Repository"
   ]
  },
  {
   "cell_type": "markdown",
   "metadata": {},
   "source": [
    "In this step, we **clone the required repository** containing the DeepVerse or Digital Twin–Aided Channel Estimation framework. This ensures that all experiment scripts, configuration files, and dataset utilities are locally available before proceeding with data preparation, subspace estimation, and calibration."
   ]
  },
  {
   "cell_type": "code",
   "execution_count": 3,
   "metadata": {},
   "outputs": [
    {
     "name": "stderr",
     "output_type": "stream",
     "text": [
      "Cloning into 'Digital-twin-aided-channel-estimation'...\n"
     ]
    }
   ],
   "source": [
    "!git clone https://github.com/sadjadalikhani/Digital-twin-aided-channel-estimation.git"
   ]
  },
  {
   "cell_type": "markdown",
   "metadata": {},
   "source": [
    "Next, **navigate to the cloned repository directory**. This sets the working environment to the project’s root, allowing all relative paths (for datasets, figures, and configuration files) to function correctly throughout the notebook."
   ]
  },
  {
   "cell_type": "code",
   "execution_count": 2,
   "metadata": {},
   "outputs": [
    {
     "name": "stdout",
     "output_type": "stream",
     "text": [
      "g:\\Sadjad\\Git\\Digital-twin-aided-channel-estimation\\Digital-twin-aided-channel-estimation\n"
     ]
    }
   ],
   "source": [
    "cd Digital-twin-aided-channel-estimation"
   ]
  },
  {
   "cell_type": "markdown",
   "metadata": {},
   "source": [
    "## Import Packages"
   ]
  },
  {
   "cell_type": "markdown",
   "metadata": {},
   "source": [
    "In this section, we **import all necessary packages and dependencies** required for the experiments. These include libraries for numerical computation, data handling, visualization, and deep learning -- forming the foundation for implementing the **subspace estimation**, **clustering**, and **reinforcement learning–based calibration** components used throughout this notebook."
   ]
  },
  {
   "cell_type": "code",
   "execution_count": 3,
   "metadata": {},
   "outputs": [],
   "source": [
    "import numpy as np\n",
    "import matplotlib.pyplot as plt\n",
    "from utils import k_means, k_med, subspace_estimation, todB, subspace_estimation_drl, generate_dft_codebook, plot_smooth_cdf, plot_perf_vs_pilots\n",
    "import matplotlib.cm as cm\n",
    "import zipfile\n",
    "import requests\n",
    "from tqdm import tqdm\n",
    "from pathlib import Path\n",
    "import shutil\n",
    "import warnings\n",
    "warnings.filterwarnings(\"ignore\")"
   ]
  },
  {
   "cell_type": "markdown",
   "metadata": {},
   "source": [
    "## DeepVerse Data Download"
   ]
  },
  {
   "cell_type": "markdown",
   "metadata": {},
   "source": [
    "The following section **downloads and organizes a DeepVerse communication scenario**. It prepares the dataset structure required for subsequent experiments by fetching the selected scene, unpacking its components (such as user channels, positions, and metadata), and arranging them into the appropriate directories for processing. This step ensures that the **digital twin and real-world data** are properly aligned and ready for zone construction, subspace estimation, and calibration experiments that follow."
   ]
  },
  {
   "cell_type": "code",
   "execution_count": 7,
   "metadata": {},
   "outputs": [
    {
     "name": "stdout",
     "output_type": "stream",
     "text": [
      "Preparing wireless data...\n"
     ]
    },
    {
     "name": "stderr",
     "output_type": "stream",
     "text": [
      "Downloading: wireless.zip: 100%|██████████| 3.77G/3.77G [01:54<00:00, 35.3MB/s]\n"
     ]
    },
    {
     "name": "stdout",
     "output_type": "stream",
     "text": [
      "Infalting: scenarios\\Carla-Town05\\wireless.zip\n",
      "Removing zip: scenarios\\Carla-Town05\\wireless.zip\n",
      "Preparing parameter files...\n"
     ]
    },
    {
     "name": "stderr",
     "output_type": "stream",
     "text": [
      "Downloading: param.zip: 100%|██████████| 87.1M/87.1M [00:02<00:00, 42.7MB/s]  \n"
     ]
    },
    {
     "name": "stdout",
     "output_type": "stream",
     "text": [
      "Infalting: scenarios\\Carla-Town05\\param.zip\n",
      "Removing zip: scenarios\\Carla-Town05\\param.zip\n",
      "DeepVerse scenario Carla-Town05 is ready!\n"
     ]
    }
   ],
   "source": [
    "def download_and_unzip(url, zip_path, extract_to):\n",
    "    response = requests.get(url, stream=True)\n",
    "    response.raise_for_status()\n",
    "\n",
    "    total = int(response.headers.get('content-length', 0))\n",
    "    with open(zip_path, 'wb') as f, tqdm(\n",
    "        desc=f\"Downloading: {zip_path.name}\",\n",
    "        total=total,\n",
    "        unit='B',\n",
    "        unit_scale=True,\n",
    "        unit_divisor=1024,\n",
    "    ) as bar:\n",
    "        for chunk in response.iter_content(chunk_size=8192):\n",
    "            size = f.write(chunk)\n",
    "            bar.update(size)\n",
    "\n",
    "    print(f\"Infalting: {zip_path}\")\n",
    "    try:\n",
    "        with zipfile.ZipFile(zip_path, 'r') as zip_ref:\n",
    "            zip_ref.extractall(extract_to)\n",
    "    except zipfile.BadZipFile:\n",
    "        print(f\"Error: {zip_path} is not a valid zip file!\")\n",
    "        return\n",
    "\n",
    "    print(f\"Removing zip: {zip_path}\")\n",
    "    zip_path.unlink()\n",
    "\n",
    "# Set up directories\n",
    "scenario_name = 'Carla-Town05'\n",
    "scenario_dir = Path(f\"scenarios/{scenario_name}\")\n",
    "scenario_dir.mkdir(parents=True, exist_ok=True)\n",
    "\n",
    "# Download and extract wireless data\n",
    "print(\"Preparing wireless data...\")\n",
    "download_and_unzip(\n",
    "    \"https://www.dropbox.com/scl/fi/xz9yg0zgx7r4scfc1747f/wireless.zip?rlkey=iigyjagh6irxeu5mp14zq8tz9&e=1&st=r32fwt57&dl=1\",\n",
    "    scenario_dir / \"wireless.zip\",\n",
    "    scenario_dir\n",
    ")\n",
    "\n",
    "# Download and extract parameter files\n",
    "print(\"Preparing parameter files...\")\n",
    "param_dir = scenario_dir / \"param\"\n",
    "param_dir.mkdir(parents=True, exist_ok=True)\n",
    "download_and_unzip(\n",
    "    \"https://www.dropbox.com/scl/fo/9qpcn5apzn4anj5xbdpcs/ANZ4uT6LFow_Dd2-vuSY66s?rlkey=3bgref7fdnc53j2i5r7vsd7eo&e=1&st=srhylwot&dl=1\",\n",
    "    scenario_dir / \"param.zip\",\n",
    "    param_dir\n",
    ")\n",
    "\n",
    "# Copy wireless params.mat file to wireless folder\n",
    "wireless_dir = scenario_dir / \"wireless\"\n",
    "shutil.copy(param_dir / \"params.mat\", wireless_dir / \"params.mat\")\n",
    "\n",
    "print(f\"DeepVerse scenario {scenario_name} is ready!\")"
   ]
  },
  {
   "cell_type": "markdown",
   "metadata": {},
   "source": [
    "## Digital Twin and Real-World Data Generation"
   ]
  },
  {
   "cell_type": "markdown",
   "metadata": {},
   "source": [
    "In this project, we consider both a **real-world scenario** and its **digital replica (digital twin)** -- an approximate model of the real environment that captures its geometry, electromagnetic material properties, signal propagation behavior, and hardware characteristics. Specifically, we use the **CARLA-TOWN05** scene as the *real-world* environment and generate its **digital counterpart** by intentionally introducing controlled errors in the signal propagation model.\n",
    "\n",
    "In this setup, **real-world UEs** are assumed to experience up to **25 propagation paths** from the base station, representing complex multipath conditions. In contrast, **digital twin UEs** are limited to at most **5 paths**, reflecting an imperfect but computationally efficient approximation of the true environment. This controlled mismatch enables us to systematically study how well the digital twin can serve as a prior for real-world channel estimation and how calibration methods can bridge the gap between the two."
   ]
  },
  {
   "cell_type": "code",
   "execution_count": 4,
   "metadata": {},
   "outputs": [
    {
     "name": "stdout",
     "output_type": "stream",
     "text": [
      "=== Digital Twin and Real-World Channel Generation ===\n",
      "Scenarios: [0 1 2 3 4 5 6 7 8 9]\n",
      "Number of beams: 128\n",
      "Paths - Digital Twin: 5, Real-World: 25\n",
      "\n",
      "=== Configuring Digital Twin Dataset ===\n",
      "Loaded parameters for 10 scenes with 5 paths each\n",
      "Scenes: [0 1 2 3 4 5 6 7 8 9]\n",
      "Communication enabled: True\n",
      "Doppler effects enabled: False\n",
      "Generating dataset...\n",
      "Warning: scenarios\\Carla-Town05\\RGB_images does not exist.\n",
      "Warning: scenarios\\Carla-Town05\\lidar does not exist.\n",
      "Generating comm dataset: ⏳ In progress\n"
     ]
    },
    {
     "name": "stderr",
     "output_type": "stream",
     "text": [
      "                                                                  \r"
     ]
    },
    {
     "name": "stdout",
     "output_type": "stream",
     "text": [
      "\u001b[F\u001b[KGenerating comm dataset: ✅ Completed (0.52s)\n",
      "Dataset generation completed!\n",
      "\n",
      "=== Configuring Real-World Dataset ===\n",
      "Loaded parameters for 10 scenes with 25 paths each\n",
      "Scenes: [0 1 2 3 4 5 6 7 8 9]\n",
      "Communication enabled: True\n",
      "Doppler effects enabled: True\n",
      "Generating dataset...\n",
      "Warning: scenarios\\Carla-Town05\\RGB_images does not exist.\n",
      "Warning: scenarios\\Carla-Town05\\lidar does not exist.\n",
      "Generating comm dataset: ⏳ In progress\n"
     ]
    },
    {
     "name": "stderr",
     "output_type": "stream",
     "text": [
      "                                                                 \r"
     ]
    },
    {
     "name": "stdout",
     "output_type": "stream",
     "text": [
      "\u001b[F\u001b[KGenerating comm dataset: ✅ Completed (0.37s)\n",
      "Dataset generation completed!\n",
      "\n",
      "=== Generating Overlayed Users ===\n",
      "Overlaying users from 10 scenes...\n",
      "Warning: Could not load user 7 from scene 0: list index out of range\n",
      "Warning: Could not load user 7 from scene 1: list index out of range\n",
      "Warning: Could not load user 7 from scene 2: list index out of range\n",
      "Warning: Could not load user 7 from scene 3: list index out of range\n",
      "Warning: Could not load user 7 from scene 4: list index out of range\n",
      "Warning: Could not load user 7 from scene 5: list index out of range\n",
      "Warning: Could not load user 7 from scene 6: list index out of range\n",
      "Warning: Could not load user 7 from scene 7: list index out of range\n",
      "Warning: Could not load user 7 from scene 8: list index out of range\n",
      "Warning: Could not load user 7 from scene 9: list index out of range\n",
      "Successfully overlayed 70 users from 10 scenes\n",
      "\n",
      "=== Processing Channel Data ===\n",
      "DEBUG: Raw channel shape for user 0: (1, 16, 8)\n",
      "RW user 0: channel shape = (128, 1)\n",
      "DEBUG: Raw channel shape for user 1: (1, 16, 8)\n",
      "RW user 1: channel shape = (128, 1)\n",
      "DEBUG: Raw channel shape for user 2: (1, 16, 8)\n",
      "RW user 2: channel shape = (128, 1)\n",
      "DEBUG: Raw channel shape for user 3: (1, 16, 8)\n",
      "RW user 3: channel shape = (128, 1)\n",
      "DEBUG: Raw channel shape for user 4: (1, 16, 8)\n",
      "RW user 4: channel shape = (128, 1)\n",
      "DEBUG: Raw channel shape for user 5: (1, 16, 8)\n",
      "RW user 5: channel shape = (128, 1)\n",
      "DEBUG: Raw channel shape for user 6: (1, 16, 8)\n",
      "RW user 6: channel shape = (128, 1)\n",
      "DEBUG: Raw channel shape for user 7: (1, 16, 8)\n",
      "RW user 7: channel shape = (128, 1)\n",
      "DEBUG: Raw channel shape for user 8: (1, 16, 8)\n",
      "RW user 8: channel shape = (128, 1)\n",
      "DEBUG: Raw channel shape for user 9: (1, 16, 8)\n",
      "RW user 9: channel shape = (128, 1)\n",
      "DEBUG: Raw channel shape for user 10: (1, 16, 8)\n",
      "RW user 10: channel shape = (128, 1)\n",
      "DEBUG: Raw channel shape for user 11: (1, 16, 8)\n",
      "RW user 11: channel shape = (128, 1)\n",
      "DEBUG: Raw channel shape for user 12: (1, 16, 8)\n",
      "RW user 12: channel shape = (128, 1)\n",
      "DEBUG: Raw channel shape for user 13: (1, 16, 8)\n",
      "RW user 13: channel shape = (128, 1)\n",
      "DEBUG: Raw channel shape for user 14: (1, 16, 8)\n",
      "RW user 14: channel shape = (128, 1)\n",
      "DEBUG: Raw channel shape for user 15: (1, 16, 8)\n",
      "RW user 15: channel shape = (128, 1)\n",
      "DEBUG: Raw channel shape for user 16: (1, 16, 8)\n",
      "RW user 16: channel shape = (128, 1)\n",
      "DEBUG: Raw channel shape for user 17: (1, 16, 8)\n",
      "RW user 17: channel shape = (128, 1)\n",
      "DEBUG: Raw channel shape for user 18: (1, 16, 8)\n",
      "RW user 18: channel shape = (128, 1)\n",
      "DEBUG: Raw channel shape for user 19: (1, 16, 8)\n",
      "RW user 19: channel shape = (128, 1)\n",
      "DEBUG: Raw channel shape for user 20: (1, 16, 8)\n",
      "RW user 20: channel shape = (128, 1)\n",
      "DEBUG: Raw channel shape for user 21: (1, 16, 8)\n",
      "RW user 21: channel shape = (128, 1)\n",
      "DEBUG: Raw channel shape for user 22: (1, 16, 8)\n",
      "RW user 22: channel shape = (128, 1)\n",
      "DEBUG: Raw channel shape for user 23: (1, 16, 8)\n",
      "RW user 23: channel shape = (128, 1)\n",
      "DEBUG: Raw channel shape for user 24: (1, 16, 8)\n",
      "RW user 24: channel shape = (128, 1)\n",
      "DEBUG: Raw channel shape for user 25: (1, 16, 8)\n",
      "RW user 25: channel shape = (128, 1)\n",
      "DEBUG: Raw channel shape for user 26: (1, 16, 8)\n",
      "RW user 26: channel shape = (128, 1)\n",
      "DEBUG: Raw channel shape for user 27: (1, 16, 8)\n",
      "RW user 27: channel shape = (128, 1)\n",
      "DEBUG: Raw channel shape for user 28: (1, 16, 8)\n",
      "RW user 28: channel shape = (128, 1)\n",
      "DEBUG: Raw channel shape for user 29: (1, 16, 8)\n",
      "RW user 29: channel shape = (128, 1)\n",
      "DEBUG: Raw channel shape for user 30: (1, 16, 8)\n",
      "RW user 30: channel shape = (128, 1)\n",
      "DEBUG: Raw channel shape for user 31: (1, 16, 8)\n",
      "RW user 31: channel shape = (128, 1)\n",
      "DEBUG: Raw channel shape for user 32: (1, 16, 8)\n",
      "RW user 32: channel shape = (128, 1)\n",
      "DEBUG: Raw channel shape for user 33: (1, 16, 8)\n",
      "RW user 33: channel shape = (128, 1)\n",
      "DEBUG: Raw channel shape for user 34: (1, 16, 8)\n",
      "RW user 34: channel shape = (128, 1)\n",
      "DEBUG: Raw channel shape for user 35: (1, 16, 8)\n",
      "RW user 35: channel shape = (128, 1)\n",
      "DEBUG: Raw channel shape for user 36: (1, 16, 8)\n",
      "RW user 36: channel shape = (128, 1)\n",
      "DEBUG: Raw channel shape for user 37: (1, 16, 8)\n",
      "RW user 37: channel shape = (128, 1)\n",
      "DEBUG: Raw channel shape for user 38: (1, 16, 8)\n",
      "RW user 38: channel shape = (128, 1)\n",
      "DEBUG: Raw channel shape for user 39: (1, 16, 8)\n",
      "RW user 39: channel shape = (128, 1)\n",
      "DEBUG: Raw channel shape for user 40: (1, 16, 8)\n",
      "RW user 40: channel shape = (128, 1)\n",
      "DEBUG: Raw channel shape for user 41: (1, 16, 8)\n",
      "RW user 41: channel shape = (128, 1)\n",
      "DEBUG: Raw channel shape for user 42: (1, 16, 8)\n",
      "RW user 42: channel shape = (128, 1)\n",
      "DEBUG: Raw channel shape for user 43: (1, 16, 8)\n",
      "RW user 43: channel shape = (128, 1)\n",
      "DEBUG: Raw channel shape for user 44: (1, 16, 8)\n",
      "RW user 44: channel shape = (128, 1)\n",
      "DEBUG: Raw channel shape for user 45: (1, 16, 8)\n",
      "RW user 45: channel shape = (128, 1)\n",
      "DEBUG: Raw channel shape for user 46: (1, 16, 8)\n",
      "RW user 46: channel shape = (128, 1)\n",
      "DEBUG: Raw channel shape for user 47: (1, 16, 8)\n",
      "RW user 47: channel shape = (128, 1)\n",
      "DEBUG: Raw channel shape for user 48: (1, 16, 8)\n",
      "RW user 48: channel shape = (128, 1)\n",
      "DEBUG: Raw channel shape for user 49: (1, 16, 8)\n",
      "RW user 49: channel shape = (128, 1)\n",
      "DEBUG: Raw channel shape for user 50: (1, 16, 8)\n",
      "RW user 50: channel shape = (128, 1)\n",
      "DEBUG: Raw channel shape for user 51: (1, 16, 8)\n",
      "RW user 51: channel shape = (128, 1)\n",
      "DEBUG: Raw channel shape for user 52: (1, 16, 8)\n",
      "RW user 52: channel shape = (128, 1)\n",
      "DEBUG: Raw channel shape for user 53: (1, 16, 8)\n",
      "RW user 53: channel shape = (128, 1)\n",
      "DEBUG: Raw channel shape for user 54: (1, 16, 8)\n",
      "RW user 54: channel shape = (128, 1)\n",
      "DEBUG: Raw channel shape for user 55: (1, 16, 8)\n",
      "RW user 55: channel shape = (128, 1)\n",
      "DEBUG: Raw channel shape for user 56: (1, 16, 8)\n",
      "RW user 56: channel shape = (128, 1)\n",
      "DEBUG: Raw channel shape for user 57: (1, 16, 8)\n",
      "RW user 57: channel shape = (128, 1)\n",
      "DEBUG: Raw channel shape for user 58: (1, 16, 8)\n",
      "RW user 58: channel shape = (128, 1)\n",
      "DEBUG: Raw channel shape for user 59: (1, 16, 8)\n",
      "RW user 59: channel shape = (128, 1)\n",
      "DEBUG: Raw channel shape for user 60: (1, 16, 8)\n",
      "RW user 60: channel shape = (128, 1)\n",
      "DEBUG: Raw channel shape for user 61: (1, 16, 8)\n",
      "RW user 61: channel shape = (128, 1)\n",
      "DEBUG: Raw channel shape for user 62: (1, 16, 8)\n",
      "RW user 62: channel shape = (128, 1)\n",
      "DEBUG: Raw channel shape for user 63: (1, 16, 8)\n",
      "RW user 63: channel shape = (128, 1)\n",
      "DEBUG: Raw channel shape for user 64: (1, 16, 8)\n",
      "RW user 64: channel shape = (128, 1)\n",
      "DEBUG: Raw channel shape for user 65: (1, 16, 8)\n",
      "RW user 65: channel shape = (128, 1)\n",
      "DEBUG: Raw channel shape for user 66: (1, 16, 8)\n",
      "RW user 66: channel shape = (128, 1)\n",
      "DEBUG: Raw channel shape for user 67: (1, 16, 8)\n",
      "RW user 67: channel shape = (128, 1)\n",
      "DEBUG: Raw channel shape for user 68: (1, 16, 8)\n",
      "RW user 68: channel shape = (128, 1)\n",
      "DEBUG: Raw channel shape for user 69: (1, 16, 8)\n",
      "RW user 69: channel shape = (128, 1)\n",
      "Generating 70 corresponding Digital Twin channels...\n",
      "Warning: Could not process DT user 0 (Scene 0, UE 0): cannot select an axis to squeeze out which has size not equal to one\n",
      "Using zero channel to maintain pairing\n",
      "Warning: Could not process DT user 1 (Scene 0, UE 1): cannot select an axis to squeeze out which has size not equal to one\n",
      "Using zero channel to maintain pairing\n",
      "Warning: Could not process DT user 2 (Scene 0, UE 2): cannot select an axis to squeeze out which has size not equal to one\n",
      "Using zero channel to maintain pairing\n",
      "Warning: Could not process DT user 3 (Scene 0, UE 3): cannot select an axis to squeeze out which has size not equal to one\n",
      "Using zero channel to maintain pairing\n",
      "Warning: Could not process DT user 4 (Scene 0, UE 4): cannot select an axis to squeeze out which has size not equal to one\n",
      "Using zero channel to maintain pairing\n",
      "Warning: Could not process DT user 5 (Scene 0, UE 5): cannot select an axis to squeeze out which has size not equal to one\n",
      "Using zero channel to maintain pairing\n",
      "Warning: Could not process DT user 6 (Scene 0, UE 6): cannot select an axis to squeeze out which has size not equal to one\n",
      "Using zero channel to maintain pairing\n",
      "Warning: Could not process DT user 7 (Scene 1, UE 0): cannot select an axis to squeeze out which has size not equal to one\n",
      "Using zero channel to maintain pairing\n",
      "Warning: Could not process DT user 8 (Scene 1, UE 1): cannot select an axis to squeeze out which has size not equal to one\n",
      "Using zero channel to maintain pairing\n",
      "Warning: Could not process DT user 9 (Scene 1, UE 2): cannot select an axis to squeeze out which has size not equal to one\n",
      "Using zero channel to maintain pairing\n",
      "Warning: Could not process DT user 10 (Scene 1, UE 3): cannot select an axis to squeeze out which has size not equal to one\n",
      "Using zero channel to maintain pairing\n",
      "Warning: Could not process DT user 11 (Scene 1, UE 4): cannot select an axis to squeeze out which has size not equal to one\n",
      "Using zero channel to maintain pairing\n",
      "Warning: Could not process DT user 12 (Scene 1, UE 5): cannot select an axis to squeeze out which has size not equal to one\n",
      "Using zero channel to maintain pairing\n",
      "Warning: Could not process DT user 13 (Scene 1, UE 6): cannot select an axis to squeeze out which has size not equal to one\n",
      "Using zero channel to maintain pairing\n",
      "Warning: Could not process DT user 14 (Scene 2, UE 0): cannot select an axis to squeeze out which has size not equal to one\n",
      "Using zero channel to maintain pairing\n",
      "Warning: Could not process DT user 15 (Scene 2, UE 1): cannot select an axis to squeeze out which has size not equal to one\n",
      "Using zero channel to maintain pairing\n",
      "Warning: Could not process DT user 16 (Scene 2, UE 2): cannot select an axis to squeeze out which has size not equal to one\n",
      "Using zero channel to maintain pairing\n",
      "Warning: Could not process DT user 17 (Scene 2, UE 3): cannot select an axis to squeeze out which has size not equal to one\n",
      "Using zero channel to maintain pairing\n",
      "Warning: Could not process DT user 18 (Scene 2, UE 4): cannot select an axis to squeeze out which has size not equal to one\n",
      "Using zero channel to maintain pairing\n",
      "Warning: Could not process DT user 19 (Scene 2, UE 5): cannot select an axis to squeeze out which has size not equal to one\n",
      "Using zero channel to maintain pairing\n",
      "Warning: Could not process DT user 20 (Scene 2, UE 6): cannot select an axis to squeeze out which has size not equal to one\n",
      "Using zero channel to maintain pairing\n",
      "Warning: Could not process DT user 21 (Scene 3, UE 0): cannot select an axis to squeeze out which has size not equal to one\n",
      "Using zero channel to maintain pairing\n",
      "Warning: Could not process DT user 22 (Scene 3, UE 1): cannot select an axis to squeeze out which has size not equal to one\n",
      "Using zero channel to maintain pairing\n",
      "Warning: Could not process DT user 23 (Scene 3, UE 2): cannot select an axis to squeeze out which has size not equal to one\n",
      "Using zero channel to maintain pairing\n",
      "Warning: Could not process DT user 24 (Scene 3, UE 3): cannot select an axis to squeeze out which has size not equal to one\n",
      "Using zero channel to maintain pairing\n",
      "Warning: Could not process DT user 25 (Scene 3, UE 4): cannot select an axis to squeeze out which has size not equal to one\n",
      "Using zero channel to maintain pairing\n",
      "Warning: Could not process DT user 26 (Scene 3, UE 5): cannot select an axis to squeeze out which has size not equal to one\n",
      "Using zero channel to maintain pairing\n",
      "Warning: Could not process DT user 27 (Scene 3, UE 6): cannot select an axis to squeeze out which has size not equal to one\n",
      "Using zero channel to maintain pairing\n",
      "Warning: Could not process DT user 28 (Scene 4, UE 0): cannot select an axis to squeeze out which has size not equal to one\n",
      "Using zero channel to maintain pairing\n",
      "Warning: Could not process DT user 29 (Scene 4, UE 1): cannot select an axis to squeeze out which has size not equal to one\n",
      "Using zero channel to maintain pairing\n",
      "Warning: Could not process DT user 30 (Scene 4, UE 2): cannot select an axis to squeeze out which has size not equal to one\n",
      "Using zero channel to maintain pairing\n",
      "Warning: Could not process DT user 31 (Scene 4, UE 3): cannot select an axis to squeeze out which has size not equal to one\n",
      "Using zero channel to maintain pairing\n",
      "Warning: Could not process DT user 32 (Scene 4, UE 4): cannot select an axis to squeeze out which has size not equal to one\n",
      "Using zero channel to maintain pairing\n",
      "Warning: Could not process DT user 33 (Scene 4, UE 5): cannot select an axis to squeeze out which has size not equal to one\n",
      "Using zero channel to maintain pairing\n",
      "Warning: Could not process DT user 34 (Scene 4, UE 6): cannot select an axis to squeeze out which has size not equal to one\n",
      "Using zero channel to maintain pairing\n",
      "Warning: Could not process DT user 35 (Scene 5, UE 0): cannot select an axis to squeeze out which has size not equal to one\n",
      "Using zero channel to maintain pairing\n",
      "Warning: Could not process DT user 36 (Scene 5, UE 1): cannot select an axis to squeeze out which has size not equal to one\n",
      "Using zero channel to maintain pairing\n",
      "Warning: Could not process DT user 37 (Scene 5, UE 2): cannot select an axis to squeeze out which has size not equal to one\n",
      "Using zero channel to maintain pairing\n",
      "Warning: Could not process DT user 38 (Scene 5, UE 3): cannot select an axis to squeeze out which has size not equal to one\n",
      "Using zero channel to maintain pairing\n",
      "Warning: Could not process DT user 39 (Scene 5, UE 4): cannot select an axis to squeeze out which has size not equal to one\n",
      "Using zero channel to maintain pairing\n",
      "Warning: Could not process DT user 40 (Scene 5, UE 5): cannot select an axis to squeeze out which has size not equal to one\n",
      "Using zero channel to maintain pairing\n",
      "Warning: Could not process DT user 41 (Scene 5, UE 6): cannot select an axis to squeeze out which has size not equal to one\n",
      "Using zero channel to maintain pairing\n",
      "Warning: Could not process DT user 42 (Scene 6, UE 0): cannot select an axis to squeeze out which has size not equal to one\n",
      "Using zero channel to maintain pairing\n",
      "Warning: Could not process DT user 43 (Scene 6, UE 1): cannot select an axis to squeeze out which has size not equal to one\n",
      "Using zero channel to maintain pairing\n",
      "Warning: Could not process DT user 44 (Scene 6, UE 2): cannot select an axis to squeeze out which has size not equal to one\n",
      "Using zero channel to maintain pairing\n",
      "Warning: Could not process DT user 45 (Scene 6, UE 3): cannot select an axis to squeeze out which has size not equal to one\n",
      "Using zero channel to maintain pairing\n",
      "Warning: Could not process DT user 46 (Scene 6, UE 4): cannot select an axis to squeeze out which has size not equal to one\n",
      "Using zero channel to maintain pairing\n",
      "Warning: Could not process DT user 47 (Scene 6, UE 5): cannot select an axis to squeeze out which has size not equal to one\n",
      "Using zero channel to maintain pairing\n",
      "Warning: Could not process DT user 48 (Scene 6, UE 6): cannot select an axis to squeeze out which has size not equal to one\n",
      "Using zero channel to maintain pairing\n",
      "Warning: Could not process DT user 49 (Scene 7, UE 0): cannot select an axis to squeeze out which has size not equal to one\n",
      "Using zero channel to maintain pairing\n",
      "Warning: Could not process DT user 50 (Scene 7, UE 1): cannot select an axis to squeeze out which has size not equal to one\n",
      "Using zero channel to maintain pairing\n",
      "Warning: Could not process DT user 51 (Scene 7, UE 2): cannot select an axis to squeeze out which has size not equal to one\n",
      "Using zero channel to maintain pairing\n",
      "Warning: Could not process DT user 52 (Scene 7, UE 3): cannot select an axis to squeeze out which has size not equal to one\n",
      "Using zero channel to maintain pairing\n",
      "Warning: Could not process DT user 53 (Scene 7, UE 4): cannot select an axis to squeeze out which has size not equal to one\n",
      "Using zero channel to maintain pairing\n",
      "Warning: Could not process DT user 54 (Scene 7, UE 5): cannot select an axis to squeeze out which has size not equal to one\n",
      "Using zero channel to maintain pairing\n",
      "Warning: Could not process DT user 55 (Scene 7, UE 6): cannot select an axis to squeeze out which has size not equal to one\n",
      "Using zero channel to maintain pairing\n",
      "Warning: Could not process DT user 56 (Scene 8, UE 0): cannot select an axis to squeeze out which has size not equal to one\n",
      "Using zero channel to maintain pairing\n",
      "Warning: Could not process DT user 57 (Scene 8, UE 1): cannot select an axis to squeeze out which has size not equal to one\n",
      "Using zero channel to maintain pairing\n",
      "Warning: Could not process DT user 58 (Scene 8, UE 2): cannot select an axis to squeeze out which has size not equal to one\n",
      "Using zero channel to maintain pairing\n",
      "Warning: Could not process DT user 59 (Scene 8, UE 3): cannot select an axis to squeeze out which has size not equal to one\n",
      "Using zero channel to maintain pairing\n",
      "Warning: Could not process DT user 60 (Scene 8, UE 4): cannot select an axis to squeeze out which has size not equal to one\n",
      "Using zero channel to maintain pairing\n",
      "Warning: Could not process DT user 61 (Scene 8, UE 5): cannot select an axis to squeeze out which has size not equal to one\n",
      "Using zero channel to maintain pairing\n",
      "Warning: Could not process DT user 62 (Scene 8, UE 6): cannot select an axis to squeeze out which has size not equal to one\n",
      "Using zero channel to maintain pairing\n",
      "Warning: Could not process DT user 63 (Scene 9, UE 0): cannot select an axis to squeeze out which has size not equal to one\n",
      "Using zero channel to maintain pairing\n",
      "Warning: Could not process DT user 64 (Scene 9, UE 1): cannot select an axis to squeeze out which has size not equal to one\n",
      "Using zero channel to maintain pairing\n",
      "Warning: Could not process DT user 65 (Scene 9, UE 2): cannot select an axis to squeeze out which has size not equal to one\n",
      "Using zero channel to maintain pairing\n",
      "Warning: Could not process DT user 66 (Scene 9, UE 3): cannot select an axis to squeeze out which has size not equal to one\n",
      "Using zero channel to maintain pairing\n",
      "Warning: Could not process DT user 67 (Scene 9, UE 4): cannot select an axis to squeeze out which has size not equal to one\n",
      "Using zero channel to maintain pairing\n",
      "Warning: Could not process DT user 68 (Scene 9, UE 5): cannot select an axis to squeeze out which has size not equal to one\n",
      "Using zero channel to maintain pairing\n",
      "Warning: Could not process DT user 69 (Scene 9, UE 6): cannot select an axis to squeeze out which has size not equal to one\n",
      "Using zero channel to maintain pairing\n",
      "\n",
      "=== Dataset Summary ===\n",
      "Digital Twin dataset shape: torch.Size([70, 128])\n",
      "Real-World dataset shape: torch.Size([70, 128])\n",
      "✓ Both datasets have 70 samples (perfectly paired)\n",
      "User positions shape: (70, 3)\n",
      "LoS status shape: (70,)\n",
      "Best beam indices shape: torch.Size([70])\n",
      "Enabled user indices: 70\n",
      "Base station position: [-112.   10.    9.]\n",
      "\n",
      "=== Dataset Information ===\n",
      "Digital Twin dataset shape: torch.Size([70, 128])\n",
      "Real-World dataset shape: torch.Size([70, 128])\n",
      "User positions shape: (70, 3)\n",
      "LoS status shape: (70, 1)\n",
      "Best beam indices shape: torch.Size([70, 1])\n",
      "Enabled user indices: 70\n",
      "Base station position: [-112.   10.    9.]\n"
     ]
    }
   ],
   "source": [
    "from deepverse_utils.deepverse_dt_rw_channel_gen import chs_gen\n",
    "\n",
    "scenarios = np.arange(10)  # Use first 4000 scenes from Carla-Town05\n",
    "n_beams = 128 \n",
    "fov = 180\n",
    "n_path = [5, 25]  # [Digital Twin paths, Real-World paths]\n",
    "\n",
    "M_x = 1\n",
    "M_y = n_beams // M_x\n",
    "codebook = generate_dft_codebook(M_x, M_y) \n",
    "\n",
    "dataset_dt, dataset_rw, pos, los_status, best_beam, enabled_idxs, bs_pos = chs_gen(\n",
    "    scenarios,\n",
    "    n_beams, \n",
    "    fov,\n",
    "    n_path,\n",
    "    codebook)\n",
    "\n",
    "    # Keep as PyTorch tensors for k_means function compatibility\n",
    "    # dataset_dt and dataset_rw are already PyTorch tensors from chs_gen\n",
    "\n",
    "# Ensure all arrays have correct dimensions for k_means function\n",
    "# pos should be (N, 3), los_status and best_beam should be (N, 1) for concatenation\n",
    "if len(los_status.shape) == 1:\n",
    "    los_status = los_status.reshape(-1, 1)\n",
    "if len(best_beam.shape) == 1:\n",
    "    best_beam = best_beam.reshape(-1, 1)\n",
    "\n",
    "print(f\"\\n=== Dataset Information ===\")\n",
    "print(f\"Digital Twin dataset shape: {dataset_dt.shape}\")\n",
    "print(f\"Real-World dataset shape: {dataset_rw.shape}\")\n",
    "print(f\"User positions shape: {pos.shape}\")\n",
    "print(f\"LoS status shape: {los_status.shape}\")\n",
    "print(f\"Best beam indices shape: {best_beam.shape}\")\n",
    "print(f\"Enabled user indices: {len(enabled_idxs)}\")\n",
    "print(f\"Base station position: {bs_pos}\")"
   ]
  },
  {
   "cell_type": "markdown",
   "metadata": {},
   "source": [
    "<img src=\"figs/deepverse/overlayed_users_positions.png\" alt=\"System Model\" width=\"800\">\n",
    "\n",
    "The figure above illustrates the **overlay strategy** used in DeepVerse scenarios. Because each frame of a dynamic scene contains only a limited number of UEs, we aggregate user channels across **4,000 consecutive frames** to ensure sufficient spatial and temporal diversity in user positions, velocities, and orientations -- necessary for applying our **zone-specific subspace approach**.\n",
    "\n",
    "From a **practical standpoint**, this reflects how data would be accumulated in real-world deployments, where multiple user observations are needed to form robust subspace estimates. From a **digital-twin perspective**, however, this strategy simply ensures that enough samples are available to compute representative subspaces and **partition the environment into coherent zones**. In real implementations, this process would correspond to collecting **UE power measurements** and feeding them back to the base station for **subspace calibration** using the **DRL algorithm** introduced in the final section of this notebook."
   ]
  },
  {
   "cell_type": "markdown",
   "metadata": {},
   "source": [
    "## Settings"
   ]
  },
  {
   "cell_type": "markdown",
   "metadata": {},
   "source": [
    "In the **settings**, we primarily configure the **coefficients used for computing distances between UE channel subspaces** within each zone. These coefficients determine how strongly different features (e.g., position, LoS status, or beam index) influence the overall distance metric, allowing us to control the clustering sensitivity and ensure balanced contributions from various factors."
   ]
  },
  {
   "cell_type": "code",
   "execution_count": null,
   "metadata": {},
   "outputs": [],
   "source": [
    "n_users = len(dataset_dt)\n",
    "pos_coeff = 1\n",
    "los_coeff_kmeans = 0\n",
    "beam_coeff_kmeans = 0 \n",
    "umap_coeff = 0\n",
    "subspace_coeff = 0"
   ]
  },
  {
   "cell_type": "markdown",
   "metadata": {},
   "source": [
    "## Fig. 2: Channel Reconstruction Performance vs Number of Pilots Plot (No calibration)"
   ]
  },
  {
   "cell_type": "markdown",
   "metadata": {},
   "source": [
    "This section, **User Clustering and Subspace Estimation**, forms the first part of the experiments and focuses on leveraging **approximated prior knowledge** of the strongest beams for all candidate UEs derived from the digital twin. This prior information enables **efficient zone-specific pilot generation** at the base station and improved channel estimation. Instead of using all DFT beams, we utilize the DT prior to select the **top-(k)** DFT vectors as pilots. The results are compared against random (k)-vector selection, illustrating how **digital twin priors significantly enhance reconstruction accuracy** and bring the estimated channels **closer to real-world performance**."
   ]
  },
  {
   "cell_type": "code",
   "execution_count": null,
   "metadata": {},
   "outputs": [],
   "source": [
    "trials = 200\n",
    "datasets = [\n",
    "    \"Real-World\",  \n",
    "    \"Digital Twin\",  \n",
    "    \"Random DFT-based Pilots\"\n",
    "]\n",
    "dft_based = True  \n",
    "n_pilots = np.array([1, 13, 26, 38, 51, 64, 77, 90, 102, 115, 128])\n",
    "snr_db = 10 \n",
    "loss_func = [\"nmse\", \"cosine\", \"throughput\"][1]\n",
    "ss_nmse = np.zeros((len(datasets), len(n_pilots), trials))\n",
    "\n",
    "for trial in range(trials):\n",
    "    \n",
    "    for dataset_idx, dataset_type in enumerate(datasets):\n",
    "        \n",
    "        print(f\"\\n\\ntrial: {trial}\\ndataset type: {dataset_type}\")\n",
    "        print(f\"Number of users: {n_users}\")\n",
    "  \n",
    "        n_areas = min(12, n_users // 4)  # Ensure areas <= samples/4\n",
    "        n_kmeans_clusters = min(80, n_users // 2)  # Ensure clusters <= samples/2\n",
    "        \n",
    "        print(f\"Adjusted parameters: n_areas={n_areas}, n_kmeans_clusters={n_kmeans_clusters}\") \n",
    "        \n",
    "        if dataset_type in [\"Digital Twin\"]:\n",
    "            imperfect_dataset = dataset_dt\n",
    "        elif dataset_type == \"Real-World\":\n",
    "            imperfect_dataset = dataset_rw\n",
    "        elif dataset_type == \"Random DFT-based Pilots\":\n",
    "            imperfect_dataset = dataset_rw\n",
    "            n_areas = 1\n",
    "            n_kmeans_clusters = 1\n",
    "        \n",
    "        if (dataset_idx == 0 and subspace_coeff == 0) or dataset_type in [\"Random DFT-based Pilots\"]:\n",
    "            \n",
    "            dt_subspaces, rw_subspaces, kmeans_centroids, kmeans_labels = k_means(\n",
    "                enabled_idxs, \n",
    "                imperfect_dataset, \n",
    "                dataset_rw,\n",
    "                pos[:,:3], \n",
    "                los_status,\n",
    "                best_beam,\n",
    "                bs_pos, \n",
    "                pos_coeff,  \n",
    "                los_coeff_kmeans, \n",
    "                beam_coeff_kmeans,  \n",
    "                percent=.95,  \n",
    "                n_kmeans_clusters=n_kmeans_clusters, \n",
    "                k_predefined2=None,\n",
    "                seed=trial\n",
    "            )\n",
    "            \n",
    "            areas, area_lens = k_med(\n",
    "                dt_subspaces, \n",
    "                pos_coeff, \n",
    "                subspace_coeff, \n",
    "                kmeans_centroids, \n",
    "                n_areas, \n",
    "                kmeans_labels,\n",
    "                pos[:,:3],\n",
    "                enabled_idxs,\n",
    "                bs_pos,\n",
    "                seed=trial\n",
    "            )\n",
    "        \n",
    "        avg_nmse_ss = subspace_estimation(\n",
    "            imperfect_dataset, \n",
    "            dataset_rw, \n",
    "            areas, \n",
    "            area_lens, \n",
    "            codebook,\n",
    "            n_pilots,\n",
    "            dataset_type,\n",
    "            snr_db=snr_db,\n",
    "            loss_func=loss_func,\n",
    "            dft_based=dft_based,\n",
    "            seed=trial\n",
    "        )\n",
    "        \n",
    "        ss_nmse[dataset_idx, :, trial] = todB(avg_nmse_ss).squeeze() if loss_func == \"nmse\" else avg_nmse_ss.squeeze()\n",
    "\n",
    "    # FIGURE     \n",
    "    plot_perf_vs_pilots(datasets, ss_nmse, n_pilots, n_beams, trial, loss_func)"
   ]
  },
  {
   "cell_type": "markdown",
   "metadata": {},
   "source": [
    "## Fig. 3: CDF (With Calibration)"
   ]
  },
  {
   "cell_type": "markdown",
   "metadata": {},
   "source": [
    "This section, **Subspace Calibration**, extends beyond the baseline digital twin performance by refining zone subspaces through a deep reinforcement learning (DRL)–based calibration process. The experiments demonstrate how **digital twin priors** serve as valuable starting points in the search space—providing strong initial knowledge that both **reduces the search complexity** and **guides smarter, more targeted updates** at each calibration step."
   ]
  },
  {
   "cell_type": "code",
   "execution_count": 7,
   "metadata": {},
   "outputs": [
    {
     "name": "stdout",
     "output_type": "stream",
     "text": [
      "\n",
      "\n",
      "trial: 0\n",
      "dataset type: Real-World\n",
      "Number of users: 70\n",
      "Adjusted parameters: n_areas=12, n_kmeans_clusters=35\n",
      "Areas have min 1 idxs, max 10 idxs, and an avg of 5.833333333333333 idxs.\n",
      "zone id: 0, n_pilots: 26, perf: 0.945\n",
      "zone id: 1, n_pilots: 26, perf: 0.955\n",
      "zone id: 2, n_pilots: 26, perf: 0.952\n",
      "zone id: 3, n_pilots: 26, perf: 0.950\n",
      "zone id: 4, n_pilots: 26, perf: 0.956\n",
      "zone id: 5, n_pilots: 26, perf: 0.945\n",
      "zone id: 6, n_pilots: 26, perf: 0.942\n",
      "zone id: 7, n_pilots: 26, perf: 0.945\n",
      "zone id: 8, n_pilots: 26, perf: 0.940\n",
      "zone id: 9, n_pilots: 26, perf: 0.925\n",
      "zone id: 10, n_pilots: 26, perf: 0.945\n",
      "zone id: 11, n_pilots: 26, perf: 0.949\n",
      "\n",
      "\n",
      "trial: 0\n",
      "dataset type: Digital Twin\n",
      "Number of users: 70\n",
      "Adjusted parameters: n_areas=12, n_kmeans_clusters=35\n",
      "zone id: 0, n_pilots: 26, perf: 0.941\n",
      "zone id: 1, n_pilots: 26, perf: 0.939\n",
      "zone id: 2, n_pilots: 26, perf: 0.938\n",
      "zone id: 3, n_pilots: 26, perf: 0.944\n",
      "zone id: 4, n_pilots: 26, perf: 0.924\n",
      "zone id: 5, n_pilots: 26, perf: 0.937\n",
      "zone id: 6, n_pilots: 26, perf: 0.945\n",
      "zone id: 7, n_pilots: 26, perf: 0.950\n",
      "zone id: 8, n_pilots: 26, perf: 0.924\n",
      "zone id: 9, n_pilots: 26, perf: 0.878\n",
      "zone id: 10, n_pilots: 26, perf: 0.889\n",
      "zone id: 11, n_pilots: 26, perf: 0.946\n",
      "\n",
      "\n",
      "trial: 0\n",
      "dataset type: RL-Calibrated Digital Twin\n",
      "Number of users: 70\n",
      "Adjusted parameters: n_areas=12, n_kmeans_clusters=35\n",
      "\n",
      "--- Optimizing Zone 1 ---\n",
      "Initial cosine: 0.9411\n"
     ]
    },
    {
     "name": "stderr",
     "output_type": "stream",
     "text": [
      "100%|██████████| 300/300 [00:05<00:00, 59.74it/s, Best=0.9425, Current=0.9406, ε=0.991] \n"
     ]
    },
    {
     "name": "stdout",
     "output_type": "stream",
     "text": [
      "\n",
      "--- Optimizing Zone 2 ---\n",
      "Initial cosine: 0.9388\n"
     ]
    },
    {
     "name": "stderr",
     "output_type": "stream",
     "text": [
      "100%|██████████| 300/300 [00:04<00:00, 61.11it/s, Best=0.9462, Current=0.9388, ε=0.991] \n"
     ]
    },
    {
     "name": "stdout",
     "output_type": "stream",
     "text": [
      "\n",
      "--- Optimizing Zone 3 ---\n",
      "Initial cosine: 0.9383\n"
     ]
    },
    {
     "name": "stderr",
     "output_type": "stream",
     "text": [
      "100%|██████████| 300/300 [00:04<00:00, 61.37it/s, Best=0.9486, Current=0.9383, ε=0.991] \n"
     ]
    },
    {
     "name": "stdout",
     "output_type": "stream",
     "text": [
      "\n",
      "--- Optimizing Zone 4 ---\n",
      "Initial cosine: 0.9439\n"
     ]
    },
    {
     "name": "stderr",
     "output_type": "stream",
     "text": [
      "100%|██████████| 300/300 [00:02<00:00, 117.27it/s, Best=0.9504, Current=0.9439, ε=0.991]\n"
     ]
    },
    {
     "name": "stdout",
     "output_type": "stream",
     "text": [
      "\n",
      "--- Optimizing Zone 5 ---\n",
      "Initial cosine: 0.9239\n"
     ]
    },
    {
     "name": "stderr",
     "output_type": "stream",
     "text": [
      "100%|██████████| 300/300 [00:03<00:00, 80.49it/s, Best=0.9390, Current=0.9239, ε=0.991] \n"
     ]
    },
    {
     "name": "stdout",
     "output_type": "stream",
     "text": [
      "\n",
      "--- Optimizing Zone 6 ---\n",
      "Initial cosine: 0.9371\n"
     ]
    },
    {
     "name": "stderr",
     "output_type": "stream",
     "text": [
      "100%|██████████| 300/300 [00:05<00:00, 57.24it/s, Best=0.9386, Current=0.9366, ε=0.991]\n"
     ]
    },
    {
     "name": "stdout",
     "output_type": "stream",
     "text": [
      "\n",
      "--- Optimizing Zone 7 ---\n",
      "Initial cosine: 0.9452\n"
     ]
    },
    {
     "name": "stderr",
     "output_type": "stream",
     "text": [
      "100%|██████████| 300/300 [00:05<00:00, 55.75it/s, Best=0.9459, Current=0.9451, ε=0.991]\n"
     ]
    },
    {
     "name": "stdout",
     "output_type": "stream",
     "text": [
      "\n",
      "--- Optimizing Zone 8 ---\n",
      "Initial cosine: 0.9503\n"
     ]
    },
    {
     "name": "stderr",
     "output_type": "stream",
     "text": [
      "100%|██████████| 300/300 [00:05<00:00, 57.16it/s, Best=0.9511, Current=0.9503, ε=0.991]\n"
     ]
    },
    {
     "name": "stdout",
     "output_type": "stream",
     "text": [
      "\n",
      "--- Optimizing Zone 9 ---\n",
      "Initial cosine: 0.9239\n"
     ]
    },
    {
     "name": "stderr",
     "output_type": "stream",
     "text": [
      "100%|██████████| 300/300 [00:02<00:00, 105.96it/s, Best=0.9379, Current=0.9238, ε=0.991]\n"
     ]
    },
    {
     "name": "stdout",
     "output_type": "stream",
     "text": [
      "\n",
      "--- Optimizing Zone 10 ---\n",
      "Initial cosine: 0.8779\n"
     ]
    },
    {
     "name": "stderr",
     "output_type": "stream",
     "text": [
      "100%|██████████| 300/300 [00:03<00:00, 93.10it/s, Best=0.8779, Current=0.8669, ε=0.991] \n"
     ]
    },
    {
     "name": "stdout",
     "output_type": "stream",
     "text": [
      "\n",
      "--- Optimizing Zone 11 ---\n",
      "Initial cosine: 0.8890\n"
     ]
    },
    {
     "name": "stderr",
     "output_type": "stream",
     "text": [
      "100%|██████████| 300/300 [00:04<00:00, 65.26it/s, Best=0.9255, Current=0.8890, ε=0.991] \n"
     ]
    },
    {
     "name": "stdout",
     "output_type": "stream",
     "text": [
      "\n",
      "--- Optimizing Zone 12 ---\n",
      "Initial cosine: 0.9455\n"
     ]
    },
    {
     "name": "stderr",
     "output_type": "stream",
     "text": [
      "100%|██████████| 300/300 [00:05<00:00, 51.68it/s, Best=0.9479, Current=0.9455, ε=0.991] \n"
     ]
    },
    {
     "name": "stdout",
     "output_type": "stream",
     "text": [
      "\n",
      "\n",
      "trial: 0\n",
      "dataset type: Random DFT-based Pilots\n",
      "Number of users: 70\n",
      "Adjusted parameters: n_areas=12, n_kmeans_clusters=35\n",
      "Areas have min 70 idxs, max 70 idxs, and an avg of 70.0 idxs.\n",
      "zone id: 0, n_pilots: 26, perf: 0.437\n",
      "\n",
      "\n",
      "trial: 0\n",
      "dataset type: RL-Calibrated Random Pilots\n",
      "Number of users: 70\n",
      "Adjusted parameters: n_areas=12, n_kmeans_clusters=35\n",
      "\n",
      "--- Optimizing Zone 1 ---\n",
      "Initial cosine: 0.4369\n"
     ]
    },
    {
     "name": "stderr",
     "output_type": "stream",
     "text": [
      "100%|██████████| 300/300 [00:05<00:00, 52.66it/s, Best=0.9443, Current=0.9438, ε=0.991] \n"
     ]
    },
    {
     "name": "stdout",
     "output_type": "stream",
     "text": [
      "\n",
      "\n",
      "trial: 1\n",
      "dataset type: Real-World\n",
      "Number of users: 70\n",
      "Adjusted parameters: n_areas=12, n_kmeans_clusters=35\n",
      "Areas have min 3 idxs, max 10 idxs, and an avg of 5.833333333333333 idxs.\n",
      "zone id: 0, n_pilots: 26, perf: 0.952\n",
      "zone id: 1, n_pilots: 26, perf: 0.946\n",
      "zone id: 2, n_pilots: 26, perf: 0.955\n",
      "zone id: 3, n_pilots: 26, perf: 0.955\n",
      "zone id: 4, n_pilots: 26, perf: 0.948\n",
      "zone id: 5, n_pilots: 26, perf: 0.945\n",
      "zone id: 6, n_pilots: 26, perf: 0.944\n",
      "zone id: 7, n_pilots: 26, perf: 0.946\n",
      "zone id: 8, n_pilots: 26, perf: 0.954\n",
      "zone id: 9, n_pilots: 26, perf: 0.947\n",
      "zone id: 10, n_pilots: 26, perf: 0.927\n",
      "zone id: 11, n_pilots: 26, perf: 0.943\n",
      "\n",
      "\n",
      "trial: 1\n",
      "dataset type: Digital Twin\n",
      "Number of users: 70\n",
      "Adjusted parameters: n_areas=12, n_kmeans_clusters=35\n",
      "zone id: 0, n_pilots: 26, perf: 0.946\n",
      "zone id: 1, n_pilots: 26, perf: 0.891\n",
      "zone id: 2, n_pilots: 26, perf: 0.939\n",
      "zone id: 3, n_pilots: 26, perf: 0.947\n",
      "zone id: 4, n_pilots: 26, perf: 0.942\n",
      "zone id: 5, n_pilots: 26, perf: 0.941\n",
      "zone id: 6, n_pilots: 26, perf: 0.946\n",
      "zone id: 7, n_pilots: 26, perf: 0.882\n",
      "zone id: 8, n_pilots: 26, perf: 0.935\n",
      "zone id: 9, n_pilots: 26, perf: 0.943\n",
      "zone id: 10, n_pilots: 26, perf: 0.878\n",
      "zone id: 11, n_pilots: 26, perf: 0.925\n",
      "\n",
      "\n",
      "trial: 1\n",
      "dataset type: RL-Calibrated Digital Twin\n",
      "Number of users: 70\n",
      "Adjusted parameters: n_areas=12, n_kmeans_clusters=35\n",
      "\n",
      "--- Optimizing Zone 1 ---\n",
      "Initial cosine: 0.9463\n"
     ]
    },
    {
     "name": "stderr",
     "output_type": "stream",
     "text": [
      "100%|██████████| 300/300 [00:03<00:00, 86.85it/s, Best=0.9482, Current=0.9462, ε=0.991] \n"
     ]
    },
    {
     "name": "stdout",
     "output_type": "stream",
     "text": [
      "\n",
      "--- Optimizing Zone 2 ---\n",
      "Initial cosine: 0.8914\n"
     ]
    },
    {
     "name": "stderr",
     "output_type": "stream",
     "text": [
      "100%|██████████| 300/300 [00:04<00:00, 62.29it/s, Best=0.9258, Current=0.8916, ε=0.991] \n"
     ]
    },
    {
     "name": "stdout",
     "output_type": "stream",
     "text": [
      "\n",
      "--- Optimizing Zone 3 ---\n",
      "Initial cosine: 0.9390\n"
     ]
    },
    {
     "name": "stderr",
     "output_type": "stream",
     "text": [
      "100%|██████████| 300/300 [00:05<00:00, 57.13it/s, Best=0.9453, Current=0.9389, ε=0.991]\n"
     ]
    },
    {
     "name": "stdout",
     "output_type": "stream",
     "text": [
      "\n",
      "--- Optimizing Zone 4 ---\n",
      "Initial cosine: 0.9473\n"
     ]
    },
    {
     "name": "stderr",
     "output_type": "stream",
     "text": [
      "100%|██████████| 300/300 [00:04<00:00, 62.81it/s, Best=0.9533, Current=0.9473, ε=0.991] \n"
     ]
    },
    {
     "name": "stdout",
     "output_type": "stream",
     "text": [
      "\n",
      "--- Optimizing Zone 5 ---\n",
      "Initial cosine: 0.9424\n"
     ]
    },
    {
     "name": "stderr",
     "output_type": "stream",
     "text": [
      "100%|██████████| 300/300 [00:03<00:00, 76.62it/s, Best=0.9450, Current=0.9424, ε=0.991] \n"
     ]
    },
    {
     "name": "stdout",
     "output_type": "stream",
     "text": [
      "\n",
      "--- Optimizing Zone 6 ---\n",
      "Initial cosine: 0.9405\n"
     ]
    },
    {
     "name": "stderr",
     "output_type": "stream",
     "text": [
      "100%|██████████| 300/300 [00:03<00:00, 99.56it/s, Best=0.9422, Current=0.9407, ε=0.991] \n"
     ]
    },
    {
     "name": "stdout",
     "output_type": "stream",
     "text": [
      "\n",
      "--- Optimizing Zone 7 ---\n",
      "Initial cosine: 0.9458\n"
     ]
    },
    {
     "name": "stderr",
     "output_type": "stream",
     "text": [
      "100%|██████████| 300/300 [00:05<00:00, 54.97it/s, Best=0.9464, Current=0.9456, ε=0.991] \n"
     ]
    },
    {
     "name": "stdout",
     "output_type": "stream",
     "text": [
      "\n",
      "--- Optimizing Zone 8 ---\n",
      "Initial cosine: 0.8819\n"
     ]
    },
    {
     "name": "stderr",
     "output_type": "stream",
     "text": [
      "100%|██████████| 300/300 [00:04<00:00, 62.20it/s, Best=0.8891, Current=0.8819, ε=0.991] \n"
     ]
    },
    {
     "name": "stdout",
     "output_type": "stream",
     "text": [
      "\n",
      "--- Optimizing Zone 9 ---\n",
      "Initial cosine: 0.9349\n"
     ]
    },
    {
     "name": "stderr",
     "output_type": "stream",
     "text": [
      "100%|██████████| 300/300 [00:04<00:00, 62.33it/s, Best=0.9435, Current=0.9349, ε=0.991] \n"
     ]
    },
    {
     "name": "stdout",
     "output_type": "stream",
     "text": [
      "\n",
      "--- Optimizing Zone 10 ---\n",
      "Initial cosine: 0.9426\n"
     ]
    },
    {
     "name": "stderr",
     "output_type": "stream",
     "text": [
      "100%|██████████| 300/300 [00:04<00:00, 66.19it/s, Best=0.9436, Current=0.9426, ε=0.991]\n"
     ]
    },
    {
     "name": "stdout",
     "output_type": "stream",
     "text": [
      "\n",
      "--- Optimizing Zone 11 ---\n",
      "Initial cosine: 0.8779\n"
     ]
    },
    {
     "name": "stderr",
     "output_type": "stream",
     "text": [
      "100%|██████████| 300/300 [00:02<00:00, 112.99it/s, Best=0.8779, Current=0.8662, ε=0.991]\n"
     ]
    },
    {
     "name": "stdout",
     "output_type": "stream",
     "text": [
      "\n",
      "--- Optimizing Zone 12 ---\n",
      "Initial cosine: 0.9249\n"
     ]
    },
    {
     "name": "stderr",
     "output_type": "stream",
     "text": [
      "100%|██████████| 300/300 [00:04<00:00, 69.88it/s, Best=0.9399, Current=0.9249, ε=0.991] \n"
     ]
    },
    {
     "name": "stdout",
     "output_type": "stream",
     "text": [
      "\n",
      "\n",
      "trial: 1\n",
      "dataset type: Random DFT-based Pilots\n",
      "Number of users: 70\n",
      "Adjusted parameters: n_areas=12, n_kmeans_clusters=35\n",
      "Areas have min 70 idxs, max 70 idxs, and an avg of 70.0 idxs.\n",
      "zone id: 0, n_pilots: 26, perf: 0.470\n",
      "\n",
      "\n",
      "trial: 1\n",
      "dataset type: RL-Calibrated Random Pilots\n",
      "Number of users: 70\n",
      "Adjusted parameters: n_areas=12, n_kmeans_clusters=35\n",
      "\n",
      "--- Optimizing Zone 1 ---\n",
      "Initial cosine: 0.4698\n"
     ]
    },
    {
     "name": "stderr",
     "output_type": "stream",
     "text": [
      "100%|██████████| 300/300 [00:04<00:00, 64.48it/s, Best=0.9398, Current=0.9397, ε=0.991] \n"
     ]
    },
    {
     "name": "stdout",
     "output_type": "stream",
     "text": [
      "\n",
      "\n",
      "trial: 2\n",
      "dataset type: Real-World\n",
      "Number of users: 70\n",
      "Adjusted parameters: n_areas=12, n_kmeans_clusters=35\n",
      "Areas have min 1 idxs, max 10 idxs, and an avg of 5.833333333333333 idxs.\n",
      "zone id: 0, n_pilots: 26, perf: 0.954\n",
      "zone id: 1, n_pilots: 26, perf: 0.945\n",
      "zone id: 2, n_pilots: 26, perf: 0.952\n",
      "zone id: 3, n_pilots: 26, perf: 0.950\n",
      "zone id: 4, n_pilots: 26, perf: 0.956\n",
      "zone id: 5, n_pilots: 26, perf: 0.941\n",
      "zone id: 6, n_pilots: 26, perf: 0.926\n",
      "zone id: 7, n_pilots: 26, perf: 0.929\n",
      "zone id: 8, n_pilots: 26, perf: 0.946\n",
      "zone id: 9, n_pilots: 26, perf: 0.948\n",
      "zone id: 10, n_pilots: 26, perf: 0.945\n",
      "zone id: 11, n_pilots: 26, perf: 0.953\n",
      "\n",
      "\n",
      "trial: 2\n",
      "dataset type: Digital Twin\n",
      "Number of users: 70\n",
      "Adjusted parameters: n_areas=12, n_kmeans_clusters=35\n",
      "zone id: 0, n_pilots: 26, perf: 0.941\n",
      "zone id: 1, n_pilots: 26, perf: 0.890\n",
      "zone id: 2, n_pilots: 26, perf: 0.941\n",
      "zone id: 3, n_pilots: 26, perf: 0.926\n",
      "zone id: 4, n_pilots: 26, perf: 0.938\n",
      "zone id: 5, n_pilots: 26, perf: 0.926\n",
      "zone id: 6, n_pilots: 26, perf: 0.880\n",
      "zone id: 7, n_pilots: 26, perf: 0.883\n",
      "zone id: 8, n_pilots: 26, perf: 0.943\n",
      "zone id: 9, n_pilots: 26, perf: 0.949\n",
      "zone id: 10, n_pilots: 26, perf: 0.939\n",
      "zone id: 11, n_pilots: 26, perf: 0.942\n",
      "\n",
      "\n",
      "trial: 2\n",
      "dataset type: RL-Calibrated Digital Twin\n",
      "Number of users: 70\n",
      "Adjusted parameters: n_areas=12, n_kmeans_clusters=35\n",
      "\n",
      "--- Optimizing Zone 1 ---\n",
      "Initial cosine: 0.9406\n"
     ]
    },
    {
     "name": "stderr",
     "output_type": "stream",
     "text": [
      "100%|██████████| 300/300 [00:04<00:00, 69.94it/s, Best=0.9434, Current=0.9405, ε=0.991] \n"
     ]
    },
    {
     "name": "stdout",
     "output_type": "stream",
     "text": [
      "\n",
      "--- Optimizing Zone 2 ---\n",
      "Initial cosine: 0.8898\n"
     ]
    },
    {
     "name": "stderr",
     "output_type": "stream",
     "text": [
      "100%|██████████| 300/300 [00:03<00:00, 83.96it/s, Best=0.9260, Current=0.8899, ε=0.991] \n"
     ]
    },
    {
     "name": "stdout",
     "output_type": "stream",
     "text": [
      "\n",
      "--- Optimizing Zone 3 ---\n",
      "Initial cosine: 0.9406\n"
     ]
    },
    {
     "name": "stderr",
     "output_type": "stream",
     "text": [
      "100%|██████████| 300/300 [00:04<00:00, 63.77it/s, Best=0.9479, Current=0.9406, ε=0.991] \n"
     ]
    },
    {
     "name": "stdout",
     "output_type": "stream",
     "text": [
      "\n",
      "--- Optimizing Zone 4 ---\n",
      "Initial cosine: 0.9262\n"
     ]
    },
    {
     "name": "stderr",
     "output_type": "stream",
     "text": [
      "100%|██████████| 300/300 [00:05<00:00, 58.09it/s, Best=0.9417, Current=0.9262, ε=0.991]\n"
     ]
    },
    {
     "name": "stdout",
     "output_type": "stream",
     "text": [
      "\n",
      "--- Optimizing Zone 5 ---\n",
      "Initial cosine: 0.9377\n"
     ]
    },
    {
     "name": "stderr",
     "output_type": "stream",
     "text": [
      "100%|██████████| 300/300 [00:04<00:00, 60.07it/s, Best=0.9472, Current=0.9376, ε=0.991] \n"
     ]
    },
    {
     "name": "stdout",
     "output_type": "stream",
     "text": [
      "\n",
      "--- Optimizing Zone 6 ---\n",
      "Initial cosine: 0.9263\n"
     ]
    },
    {
     "name": "stderr",
     "output_type": "stream",
     "text": [
      "100%|██████████| 300/300 [00:04<00:00, 72.32it/s, Best=0.9403, Current=0.9262, ε=0.991] \n"
     ]
    },
    {
     "name": "stdout",
     "output_type": "stream",
     "text": [
      "\n",
      "--- Optimizing Zone 7 ---\n",
      "Initial cosine: 0.8796\n"
     ]
    },
    {
     "name": "stderr",
     "output_type": "stream",
     "text": [
      "100%|██████████| 300/300 [00:03<00:00, 97.55it/s, Best=0.8796, Current=0.8676, ε=0.991] \n"
     ]
    },
    {
     "name": "stdout",
     "output_type": "stream",
     "text": [
      "\n",
      "--- Optimizing Zone 8 ---\n",
      "Initial cosine: 0.8834\n"
     ]
    },
    {
     "name": "stderr",
     "output_type": "stream",
     "text": [
      "100%|██████████| 300/300 [00:04<00:00, 63.43it/s, Best=0.8834, Current=0.8717, ε=0.991] \n"
     ]
    },
    {
     "name": "stdout",
     "output_type": "stream",
     "text": [
      "\n",
      "--- Optimizing Zone 9 ---\n",
      "Initial cosine: 0.9432\n"
     ]
    },
    {
     "name": "stderr",
     "output_type": "stream",
     "text": [
      "100%|██████████| 300/300 [00:05<00:00, 58.46it/s, Best=0.9441, Current=0.9431, ε=0.991]\n"
     ]
    },
    {
     "name": "stdout",
     "output_type": "stream",
     "text": [
      "\n",
      "--- Optimizing Zone 10 ---\n",
      "Initial cosine: 0.9486\n"
     ]
    },
    {
     "name": "stderr",
     "output_type": "stream",
     "text": [
      "100%|██████████| 300/300 [00:04<00:00, 60.98it/s, Best=0.9507, Current=0.9486, ε=0.991] \n"
     ]
    },
    {
     "name": "stdout",
     "output_type": "stream",
     "text": [
      "\n",
      "--- Optimizing Zone 11 ---\n",
      "Initial cosine: 0.9394\n"
     ]
    },
    {
     "name": "stderr",
     "output_type": "stream",
     "text": [
      "100%|██████████| 300/300 [00:04<00:00, 61.55it/s, Best=0.9412, Current=0.9390, ε=0.991]\n"
     ]
    },
    {
     "name": "stdout",
     "output_type": "stream",
     "text": [
      "\n",
      "--- Optimizing Zone 12 ---\n",
      "Initial cosine: 0.9419\n"
     ]
    },
    {
     "name": "stderr",
     "output_type": "stream",
     "text": [
      "100%|██████████| 300/300 [00:02<00:00, 124.47it/s, Best=0.9479, Current=0.9419, ε=0.991]\n"
     ]
    },
    {
     "name": "stdout",
     "output_type": "stream",
     "text": [
      "\n",
      "\n",
      "trial: 2\n",
      "dataset type: Random DFT-based Pilots\n",
      "Number of users: 70\n",
      "Adjusted parameters: n_areas=12, n_kmeans_clusters=35\n",
      "Areas have min 70 idxs, max 70 idxs, and an avg of 70.0 idxs.\n",
      "zone id: 0, n_pilots: 26, perf: 0.248\n",
      "\n",
      "\n",
      "trial: 2\n",
      "dataset type: RL-Calibrated Random Pilots\n",
      "Number of users: 70\n",
      "Adjusted parameters: n_areas=12, n_kmeans_clusters=35\n",
      "\n",
      "--- Optimizing Zone 1 ---\n",
      "Initial cosine: 0.2480\n"
     ]
    },
    {
     "name": "stderr",
     "output_type": "stream",
     "text": [
      "100%|██████████| 300/300 [00:03<00:00, 78.49it/s, Best=0.9454, Current=0.9450, ε=0.991] \n"
     ]
    },
    {
     "name": "stdout",
     "output_type": "stream",
     "text": [
      "\n",
      "\n",
      "trial: 3\n",
      "dataset type: Real-World\n",
      "Number of users: 70\n",
      "Adjusted parameters: n_areas=12, n_kmeans_clusters=35\n"
     ]
    },
    {
     "ename": "",
     "evalue": "",
     "output_type": "error",
     "traceback": [
      "\u001b[1;31mThe Kernel crashed while executing code in the current cell or a previous cell. \n",
      "\u001b[1;31mPlease review the code in the cell(s) to identify a possible cause of the failure. \n",
      "\u001b[1;31mClick <a href='https://aka.ms/vscodeJupyterKernelCrash'>here</a> for more info. \n",
      "\u001b[1;31mView Jupyter <a href='command:jupyter.viewOutput'>log</a> for further details."
     ]
    }
   ],
   "source": [
    "trials = 200\n",
    "datasets = [\n",
    "    \"Real-World\",  \n",
    "    \"Digital Twin\",  \n",
    "    \"RL-Calibrated Digital Twin\",  \n",
    "    \"Random DFT-based Pilots\",  \n",
    "    \"RL-Calibrated Random Pilots\"\n",
    "]\n",
    "dft_based = True  \n",
    "n_pilots = [26]\n",
    "snr_db = 10 \n",
    "loss_func = [\"nmse\", \"cosine\", \"throughput\"][1]\n",
    "ss_nmse = np.zeros((len(datasets), len(n_pilots), trials))\n",
    "\n",
    "for trial in range(trials):\n",
    "    \n",
    "    for dataset_idx, dataset_type in enumerate(datasets):\n",
    "        \n",
    "        print(f\"\\n\\ntrial: {trial}\\ndataset type: {dataset_type}\")\n",
    "        print(f\"Number of users: {n_users}\")\n",
    "        \n",
    "        n_areas = min(12, n_users // 4)  # Ensure areas <= samples/4\n",
    "        n_kmeans_clusters = min(80, n_users // 2)  # Ensure clusters <= samples/2\n",
    "        \n",
    "        print(f\"Adjusted parameters: n_areas={n_areas}, n_kmeans_clusters={n_kmeans_clusters}\") \n",
    "        \n",
    "        if dataset_type in [\"Digital Twin\", \"RL-Calibrated Digital Twin\"]:\n",
    "            imperfect_dataset = dataset_dt\n",
    "        elif dataset_type == \"Real-World\":\n",
    "            imperfect_dataset = dataset_rw\n",
    "        elif dataset_type in [\"Random DFT-based Pilots\", \"RL-Calibrated Random Pilots\"]:\n",
    "            imperfect_dataset = dataset_rw\n",
    "            n_areas = 1\n",
    "            n_kmeans_clusters = 1\n",
    "        \n",
    "        if (dataset_idx == 0 and subspace_coeff == 0) or dataset_type in [\"Random DFT-based Pilots\"]:\n",
    "            \n",
    "            dt_subspaces, rw_subspaces, kmeans_centroids, kmeans_labels = k_means(\n",
    "                enabled_idxs, \n",
    "                imperfect_dataset, \n",
    "                dataset_rw,\n",
    "                pos[:,:3], \n",
    "                los_status,\n",
    "                best_beam,\n",
    "                bs_pos, \n",
    "                pos_coeff,  \n",
    "                los_coeff_kmeans, \n",
    "                beam_coeff_kmeans,  \n",
    "                percent=.95,  \n",
    "                n_kmeans_clusters=n_kmeans_clusters, \n",
    "                k_predefined2=None,\n",
    "                seed=trial\n",
    "            )\n",
    "            \n",
    "            areas, area_lens = k_med(\n",
    "                dt_subspaces, \n",
    "                pos_coeff, \n",
    "                subspace_coeff, \n",
    "                kmeans_centroids, \n",
    "                n_areas, \n",
    "                kmeans_labels,\n",
    "                pos[:,:3],\n",
    "                enabled_idxs,\n",
    "                bs_pos,\n",
    "                seed=trial\n",
    "            )\n",
    "    \n",
    "        if dataset_type in [\"Real-World\", \"Random DFT-based Pilots\", \"Digital Twin\"]:\n",
    "            \n",
    "            avg_nmse_ss = subspace_estimation(\n",
    "                imperfect_dataset, \n",
    "                dataset_rw, \n",
    "                areas, \n",
    "                area_lens, \n",
    "                codebook,\n",
    "                n_pilots,\n",
    "                dataset_type,\n",
    "                snr_db=snr_db,\n",
    "                loss_func=loss_func,\n",
    "                dft_based=dft_based,\n",
    "                seed=trial\n",
    "            )\n",
    "            \n",
    "        elif dataset_type in [\"RL-Calibrated Digital Twin\", \"RL-Calibrated Random Pilots\"]:\n",
    "            \n",
    "            avg_nmse_ss = subspace_estimation_drl(\n",
    "                imperfect_dataset, \n",
    "                dataset_rw, \n",
    "                areas, \n",
    "                area_lens, \n",
    "                codebook, \n",
    "                dataset_type,\n",
    "                n_pilots=n_pilots[0], \n",
    "                n_episodes=300, \n",
    "                snr_db=snr_db, \n",
    "                loss_func=loss_func, \n",
    "                seed=trial\n",
    "            )\n",
    "        \n",
    "        ss_nmse[dataset_idx, :, trial] = todB(avg_nmse_ss) if loss_func == \"nmse\" else avg_nmse_ss\n",
    "        \n",
    "    # CDF PLOT\n",
    "    plot_smooth_cdf(datasets, ss_nmse, trial=trial, loss_func=loss_func, n=13, r=0.2)"
   ]
  }
 ],
 "metadata": {
  "kernelspec": {
   "display_name": "Python 3",
   "language": "python",
   "name": "python3"
  },
  "language_info": {
   "codemirror_mode": {
    "name": "ipython",
    "version": 3
   },
   "file_extension": ".py",
   "mimetype": "text/x-python",
   "name": "python",
   "nbconvert_exporter": "python",
   "pygments_lexer": "ipython3",
   "version": "3.12.11"
  }
 },
 "nbformat": 4,
 "nbformat_minor": 4
}
